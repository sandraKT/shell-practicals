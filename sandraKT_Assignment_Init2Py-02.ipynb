{
 "cells": [
  {
   "cell_type": "markdown",
   "metadata": {},
   "source": [
    "# Assignment 2 : Init2Py-02 – Functions & Recursions"
   ]
  },
  {
   "cell_type": "markdown",
   "metadata": {},
   "source": [
    "    Student : KAM TSEMO SANDRA MARION\n",
    "\n",
    "        OPTION : MASTER REGULAR, AIMS SENEGAL\n",
    "\n",
    "        Teacher : Yae Ulrich"
   ]
  },
  {
   "cell_type": "markdown",
   "metadata": {},
   "source": [
    "1. Write a python script that asks the user for the values of x and y and uses these inputs to\n",
    "compute the numerical value."
   ]
  },
  {
   "cell_type": "code",
   "execution_count": 1,
   "metadata": {},
   "outputs": [
    {
     "name": "stdout",
     "output_type": "stream",
     "text": [
      "Entrer une valeur : 1\n",
      "Entrer une seconde valeur : 0\n",
      "1.0\n"
     ]
    }
   ],
   "source": [
    "import math\n",
    "x=float(input(\"Entrer une valeur : \"))\n",
    "y= float(input(\"Entrer une seconde valeur : \"))\n",
    "if x>0 :\n",
    "    z= (math.sqrt(x**(2+y)))/((1/x)+2*math.sin(y))\n",
    "    print(z)\n",
    "else :\n",
    "    print(\"Pas de solutions\")"
   ]
  },
  {
   "cell_type": "markdown",
   "metadata": {},
   "source": [
    "2.a Write a function that given two integers b and n (n is positive), calculates b\n",
    "n without using python’s power operator. Name this function ownpowerfn.py.\n"
   ]
  },
  {
   "cell_type": "code",
   "execution_count": 2,
   "metadata": {},
   "outputs": [],
   "source": [
    "def ownpowerfn(b,n) :\n",
    "    puissance=0\n",
    "    if n>0 :\n",
    "        for i in range (0,n):\n",
    "            puissance=b**n\n",
    "            i=i+1\n",
    "        print(puissance)  \n",
    "    else :\n",
    "        print(\"Oups ! vous devez entrer un entier n positif strictement \")"
   ]
  },
  {
   "cell_type": "code",
   "execution_count": 3,
   "metadata": {},
   "outputs": [
    {
     "name": "stdout",
     "output_type": "stream",
     "text": [
      "1024\n"
     ]
    }
   ],
   "source": [
    "ownpowerfn(2,10)"
   ]
  },
  {
   "cell_type": "markdown",
   "metadata": {},
   "source": [
    "2.b  What if we do not specify that n has to be positive ?\n",
    "\n",
    "Si nous ne spécifions pas que $n$ est un entier naturel positif, alors toutes les puissances de $b$ à l'ordre inférieure\n",
    "ou égale à zéro pour le résultat $b^n$ prendrons autommatiquement la valeur zéro vu la manière dont est agencé notre script.\n"
   ]
  },
  {
   "cell_type": "markdown",
   "metadata": {},
   "source": [
    "3.a Takes two arguments, and computes their arithmetic and geometric means. Name\n",
    "these functions arithmetic_mean and geometric_mean respectively."
   ]
  },
  {
   "cell_type": "code",
   "execution_count": 4,
   "metadata": {},
   "outputs": [],
   "source": [
    "def arithmetic_mean(a,b) :\n",
    "    moyAr=(a+b)/2\n",
    "    print(moyAr, \" est la moyenne arithmétique de \", a , \"et\", b)  \n",
    "    \n",
    "def geometric_mean(m,n) :\n",
    "    moyGeo=math.sqrt(m*n)\n",
    "    print(moyGeo, \" est la moyenne arithmétique de \", m , \"et\", n)  "
   ]
  },
  {
   "cell_type": "code",
   "execution_count": 5,
   "metadata": {},
   "outputs": [
    {
     "name": "stdout",
     "output_type": "stream",
     "text": [
      "4.0  est la moyenne arithmétique de  2 et 6\n",
      "3.4641016151377544  est la moyenne arithmétique de  2 et 6\n"
     ]
    }
   ],
   "source": [
    "arithmetic_mean(2,6)\n",
    "geometric_mean(2,6)"
   ]
  },
  {
   "cell_type": "markdown",
   "metadata": {},
   "source": [
    "3.b Converts degree Celsius to Fahrenheit and vice versa. Name these two functions\n",
    "celcius_to_fahrenheit and fahrenheit_to_celcius respectively."
   ]
  },
  {
   "cell_type": "code",
   "execution_count": 6,
   "metadata": {},
   "outputs": [],
   "source": [
    "def celcius_to_fahrenheit (C) :\n",
    "    F=(C*(9/5))+32\n",
    "    print(F, \" est la conversion de \", C , \" degrés Celsius en degrés Fahrenheit\")  \n",
    "    \n",
    "def fahrenheit_to_celcius(F) :\n",
    "    C = (5/9)*(F - 32)\n",
    "    print(C, \" est la conversion de \", F , \" degrés Fahrenheit en degrés Celsius\")"
   ]
  },
  {
   "cell_type": "code",
   "execution_count": 7,
   "metadata": {},
   "outputs": [
    {
     "name": "stdout",
     "output_type": "stream",
     "text": [
      "53.6  est la conversion de  12  degrés Celsius en degrés Fahrenheit\n",
      "12.000000000000002  est la conversion de  53.6  degrés Fahrenheit en degrés Celsius\n"
     ]
    }
   ],
   "source": [
    "celcius_to_fahrenheit (12)\n",
    "fahrenheit_to_celcius(53.6)"
   ]
  },
  {
   "cell_type": "markdown",
   "metadata": {},
   "source": [
    "3.c Converts angle in degrees to radians and vice versa. Name these two functions\n",
    "degrees_to_radians and radians_to_degrees respectively."
   ]
  },
  {
   "cell_type": "code",
   "execution_count": 8,
   "metadata": {},
   "outputs": [],
   "source": [
    "def degrees_to_radians (D) :\n",
    "    R=(D*math.pi)/180\n",
    "    print(R, \" est la conversion de \", D , \" degrés en radians \")  \n",
    "    \n",
    "def fahrenheit_to_celcius(R) :\n",
    "    D=(R*180)/math.pi\n",
    "    print(D, \" est la conversion de \", R , \" radians en degrés \")"
   ]
  },
  {
   "cell_type": "code",
   "execution_count": 9,
   "metadata": {},
   "outputs": [
    {
     "name": "stdout",
     "output_type": "stream",
     "text": [
      "3.141592653589793  est la conversion de  180  degrés en radians \n",
      "180.0  est la conversion de  3.141592653589793  radians en degrés \n"
     ]
    }
   ],
   "source": [
    "degrees_to_radians (180)\n",
    "fahrenheit_to_celcius(math.pi)"
   ]
  },
  {
   "cell_type": "markdown",
   "metadata": {},
   "source": [
    "3.d Computes the circumference and the area of a circle given the radius.\n"
   ]
  },
  {
   "cell_type": "code",
   "execution_count": 10,
   "metadata": {},
   "outputs": [],
   "source": [
    "def circonferenceAireSphere(r):\n",
    "        circ = 2*math.pi*r\n",
    "        air = math.pi* r**2\n",
    "        return circ, air"
   ]
  },
  {
   "cell_type": "code",
   "execution_count": 11,
   "metadata": {},
   "outputs": [
    {
     "data": {
      "text/plain": [
       "(18.84955592153876, 28.274333882308138)"
      ]
     },
     "execution_count": 11,
     "metadata": {},
     "output_type": "execute_result"
    }
   ],
   "source": [
    "circonferenceAireSphere(3)"
   ]
  },
  {
   "cell_type": "markdown",
   "metadata": {},
   "source": [
    "3.a Given two numbers, compute their average and geometrical mean and prints them.\n",
    "Now write a program that performs this process 10 times, taking as input the means\n",
    "computed in the previous step. Name this function avggeom."
   ]
  },
  {
   "cell_type": "code",
   "execution_count": 12,
   "metadata": {},
   "outputs": [],
   "source": [
    "def moy_And_moyGeo(a,b) :\n",
    "    moyenne=(a+b)/2\n",
    "    moyenneGeo=math.sqrt(a*b)\n",
    "    return moyenne , moyenneGeo"
   ]
  },
  {
   "cell_type": "code",
   "execution_count": 13,
   "metadata": {},
   "outputs": [],
   "source": [
    "def avggeom (a,b) :\n",
    "    return 10*moy_And_moyGeo(a,b)"
   ]
  },
  {
   "cell_type": "code",
   "execution_count": 14,
   "metadata": {},
   "outputs": [
    {
     "data": {
      "text/plain": [
       "(4.0,\n",
       " 3.4641016151377544,\n",
       " 4.0,\n",
       " 3.4641016151377544,\n",
       " 4.0,\n",
       " 3.4641016151377544,\n",
       " 4.0,\n",
       " 3.4641016151377544,\n",
       " 4.0,\n",
       " 3.4641016151377544,\n",
       " 4.0,\n",
       " 3.4641016151377544,\n",
       " 4.0,\n",
       " 3.4641016151377544,\n",
       " 4.0,\n",
       " 3.4641016151377544,\n",
       " 4.0,\n",
       " 3.4641016151377544,\n",
       " 4.0,\n",
       " 3.4641016151377544)"
      ]
     },
     "execution_count": 14,
     "metadata": {},
     "output_type": "execute_result"
    }
   ],
   "source": [
    "avggeom (2,6)"
   ]
  },
  {
   "cell_type": "markdown",
   "metadata": {},
   "source": [
    "3.b Write a function that computes the distance between two points in the plane. Use\n",
    "it in another program that computes the perimeter and the area of a triangle, given\n",
    "three points in the plane. Name this function distancefn."
   ]
  },
  {
   "cell_type": "code",
   "execution_count": 15,
   "metadata": {},
   "outputs": [],
   "source": [
    "def dist(x1,x2,y1,y2) :\n",
    "    ditanceEuclidienne=math.sqrt((x2-x1)**2+(y2-y1)**2)\n",
    "    return ditanceEuclidienne"
   ]
  },
  {
   "cell_type": "code",
   "execution_count": 16,
   "metadata": {},
   "outputs": [],
   "source": [
    "def distancefn(x1,x2,x3,y1,y2,y3):\n",
    "        perimT = dist(x1,x2,y1,y2)+dist(x2,x3,y2,y3)+dist(x1,x3,y1,y3)\n",
    "        airT = (dist(x2,x3,y2,y3)*dist(x1,x2,y1,y2))/2\n",
    "        return perimT , airT"
   ]
  },
  {
   "cell_type": "code",
   "execution_count": 17,
   "metadata": {},
   "outputs": [
    {
     "data": {
      "text/plain": [
       "(6.650281539872885, 2.121320343559643)"
      ]
     },
     "execution_count": 17,
     "metadata": {},
     "output_type": "execute_result"
    }
   ],
   "source": [
    "distancefn(1,0,0,1,2,-1)"
   ]
  },
  {
   "cell_type": "markdown",
   "metadata": {},
   "source": [
    "5.  Write a program that offers three options to the user: \\n\n",
    "    1.Evaluation of factorial\n",
    "    2.Evaluation of a second degree equation\n",
    "    3.Exit"
   ]
  },
  {
   "cell_type": "code",
   "execution_count": 18,
   "metadata": {},
   "outputs": [],
   "source": [
    "# En cours de reflexion..."
   ]
  },
  {
   "cell_type": "markdown",
   "metadata": {},
   "source": [
    "6. For a fixed real number x and a natural number n, we can define recursively function\n",
    "    "
   ]
  },
  {
   "cell_type": "code",
   "execution_count": 19,
   "metadata": {},
   "outputs": [],
   "source": [
    "def puissance (x,n) :\n",
    "    if n == 0 :\n",
    "        return 1\n",
    "    if n%2 == 0 :\n",
    "        m=puissance(x,n/2)\n",
    "        return m*m\n",
    "    else :\n",
    "        return x*puissance(x,n-1)"
   ]
  },
  {
   "cell_type": "code",
   "execution_count": 20,
   "metadata": {},
   "outputs": [
    {
     "data": {
      "text/plain": [
       "1024"
      ]
     },
     "execution_count": 20,
     "metadata": {},
     "output_type": "execute_result"
    }
   ],
   "source": [
    "puissance (2,10)"
   ]
  },
  {
   "cell_type": "markdown",
   "metadata": {},
   "source": [
    "7. Write code that implements the Fibonacci sequence. Test your program at 100."
   ]
  },
  {
   "cell_type": "code",
   "execution_count": 21,
   "metadata": {},
   "outputs": [],
   "source": [
    "# Méthode 1 : en utilisant les formules mathématiques\n",
    "# Nous allons utiliser l'équivalence de la formule de Fibonacci lorsaue n est grand (tend vers l'infini)\n",
    "\n",
    "def Fibonacci(n):\n",
    "    return ((1+math.sqrt(5))**n-(1-math.sqrt(5))**n)/(2**n*math.sqrt(5))  "
   ]
  },
  {
   "cell_type": "code",
   "execution_count": 22,
   "metadata": {},
   "outputs": [
    {
     "data": {
      "text/plain": [
       "3.542248481792631e+20"
      ]
     },
     "execution_count": 22,
     "metadata": {},
     "output_type": "execute_result"
    }
   ],
   "source": [
    "Fibonacci(100)"
   ]
  },
  {
   "cell_type": "code",
   "execution_count": 23,
   "metadata": {},
   "outputs": [],
   "source": [
    "# Méthode 2 : en utilisant la fonction recursive mémorisée\n",
    "def Fibonacci(n, _cache={}):\n",
    "    if n in _cache:\n",
    "        return _cache[n]\n",
    "    elif n > 1:\n",
    "        return _cache.setdefault(n, Fibonacci(n-1) + Fibonacci(n-2))\n",
    "    return n"
   ]
  },
  {
   "cell_type": "code",
   "execution_count": 24,
   "metadata": {},
   "outputs": [
    {
     "data": {
      "text/plain": [
       "354224848179261915075"
      ]
     },
     "execution_count": 24,
     "metadata": {},
     "output_type": "execute_result"
    }
   ],
   "source": [
    "Fibonacci(100)"
   ]
  }
 ],
 "metadata": {
  "kernelspec": {
   "display_name": "Python 3",
   "language": "python",
   "name": "python3"
  },
  "language_info": {
   "codemirror_mode": {
    "name": "ipython",
    "version": 3
   },
   "file_extension": ".py",
   "mimetype": "text/x-python",
   "name": "python",
   "nbconvert_exporter": "python",
   "pygments_lexer": "ipython3",
   "version": "3.7.6"
  }
 },
 "nbformat": 4,
 "nbformat_minor": 4
}
