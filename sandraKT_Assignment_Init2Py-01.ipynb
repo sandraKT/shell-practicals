{
 "cells": [
  {
   "cell_type": "markdown",
   "metadata": {},
   "source": [
    "# Assignment 2 : Init2Py-01 – Conditionals & For loops"
   ]
  },
  {
   "cell_type": "markdown",
   "metadata": {},
   "source": [
    "    Student : KAM TSEMO SANDRA MARION\n",
    "\n",
    "            OPTION : MASTER REGULAR, AIMS SENEGAL\n",
    "            \n",
    "            Teacher : Yae Ulrich"
   ]
  },
  {
   "cell_type": "markdown",
   "metadata": {},
   "source": [
    "1. Compute the following expressions for a natural number n chosen by the user:\n"
   ]
  },
  {
   "cell_type": "markdown",
   "metadata": {},
   "source": [
    "1.a sum"
   ]
  },
  {
   "cell_type": "code",
   "execution_count": 1,
   "metadata": {},
   "outputs": [
    {
     "name": "stdout",
     "output_type": "stream",
     "text": [
      "Enter a number : 4\n",
      "result 10\n"
     ]
    }
   ],
   "source": [
    "n=int(input(\"Enter a number : \"))\n",
    "s =0\n",
    "for i in range(0,n):\n",
    "    if (i % 2 == 1) :\n",
    "        s=s+i+3\n",
    "print(\"result\",s)"
   ]
  },
  {
   "cell_type": "markdown",
   "metadata": {},
   "source": [
    "1.b product"
   ]
  },
  {
   "cell_type": "code",
   "execution_count": 2,
   "metadata": {},
   "outputs": [
    {
     "name": "stdout",
     "output_type": "stream",
     "text": [
      "Enter a number : 4\n",
      "result 15\n"
     ]
    }
   ],
   "source": [
    "n=int(input(\"Enter a number : \"))\n",
    "p = 1\n",
    "for i in range(0,n):\n",
    "    if i % 2 == 0 :\n",
    "        p=p*(i+3)\n",
    "print(\"result\",p)"
   ]
  },
  {
   "cell_type": "markdown",
   "metadata": {},
   "source": [
    "2. Write a program that reads the number of the day of the week (from 0 to 6). If it is a\n",
    "working day, then the program will write the name of the corresponding day. Otherwise,\n",
    "it will write the word \"Weekend\"."
   ]
  },
  {
   "cell_type": "code",
   "execution_count": 3,
   "metadata": {},
   "outputs": [
    {
     "name": "stdout",
     "output_type": "stream",
     "text": [
      "Entrez un numero de  jour : 5\n",
      "le jour 5 C'est un vendredi\n",
      "\n"
     ]
    }
   ],
   "source": [
    "jour=int(input(\"Entrez un numero de  jour : \"))\n",
    "s=((jour) % 7)\n",
    "#  Nous supposons sans nuire à la généralité que le jour 0 c'est dimanche, jour 1 : lundi ainsi de suite...jour 6 : samedi\n",
    "# De plus, nous convenons que les jours ouvrables sont : lundi, mardi , ..., vendredi et les jours non ouvrables (weekend) sont : samedi et dimanche.\n",
    "if jour<=6 :\n",
    "    if 0<s<=5 :\n",
    "        if s==1 :\n",
    "            print(\"le jour\",jour,\"C'est un lundi\\n\")\n",
    "        if s==2 :\n",
    "            print(\"le jour\",jour,\"C'est un mardi\\n\")\n",
    "        if s==3 :\n",
    "            print(\"le jour\",jour,\"C'est un mercredi\\n\")\n",
    "        if s==4 :\n",
    "            print(\"le jour\",jour,\"C'est un jeudi\\n\")\n",
    "        if s==5 :\n",
    "            print(\"le jour\",jour,\"C'est un vendredi\\n\")\n",
    "            \n",
    "    else :\n",
    "        print(\"le jour\",jour,\"est le Week-end\")\n",
    "else : \n",
    "    print(\"Entrez un nombre compris entre 0 et 6\")"
   ]
  },
  {
   "cell_type": "markdown",
   "metadata": {},
   "source": [
    "3. Make a program that, given a month number (from 0 to 11), indicates how many days it\n",
    "has (28, 30 or 31), ignoring the leap years.\n"
   ]
  },
  {
   "cell_type": "code",
   "execution_count": 4,
   "metadata": {},
   "outputs": [
    {
     "name": "stdout",
     "output_type": "stream",
     "text": [
      "Entrez un numero de mois : 5\n",
      "Le mois de Juin a : 30 jours\n"
     ]
    }
   ],
   "source": [
    "mois=int(input(\"Entrez un numero de mois : \"))\n",
    "s=((mois) % 12)\n",
    "#  Nous supposons sans nuire à la généralité que le mois 0 c'est janvier , mois 1 : fevrier ainsi de suite...mois 11 : decembre\n",
    "if mois<=11 :\n",
    "    if s==0 :\n",
    "        print(\"Le mois de Janvier a :\", 31, \"jours\")\n",
    "    if s==1 :\n",
    "        print(\"Le mois de Fevrier a :\",28, \"jours\")\n",
    "    if s==2 :\n",
    "        print(\"Le mois de Mars a :\",31, \"jours\")\n",
    "    if s==3 :\n",
    "        print(\"Le mois de Avril a :\",30, \"jours\")\n",
    "    if s==4 :\n",
    "        print(\"Le mois de Mai a :\",31, \"jours\")\n",
    "    if s==5 :\n",
    "        print(\"Le mois de Juin a :\",30, \"jours\")\n",
    "    if s==6 :\n",
    "        print(\"Le mois de Juillet a :\",31, \"jours\")\n",
    "    if s==7 :\n",
    "        print(\"Le mois de Août a :\",31, \"jours\")\n",
    "    if s==8 :\n",
    "        print(\"Le mois de Septembre a :\",30, \"jours\")\n",
    "    if s==9 :\n",
    "        print(\"Le mois de Octobre a :\",31, \"jours\")\n",
    "    if s==10 :\n",
    "        print(\"Le mois de Novembre a :\",30, \"jours\")\n",
    "    if s==11 :\n",
    "        print(\"Le mois de Decembre a :\",31, \"jours\")\n",
    "else : \n",
    "    print(\"Entrez un nombre entre 0 et 11\")"
   ]
  },
  {
   "cell_type": "markdown",
   "metadata": {},
   "source": [
    "4. Write two versions of python code that displays your name 3 times. One version with a\n",
    "\"for loop\" and another version with a \"while loop\"."
   ]
  },
  {
   "cell_type": "code",
   "execution_count": 5,
   "metadata": {},
   "outputs": [
    {
     "name": "stdout",
     "output_type": "stream",
     "text": [
      "Entrer votre nom : KAM TSEMO\n",
      "KAM TSEMO\n",
      "KAM TSEMO\n",
      "KAM TSEMO\n"
     ]
    }
   ],
   "source": [
    "# En utilisant la boucle FOR\n",
    "noms = str(input(\"Entrer votre nom : \"))\n",
    "for i in range(1,4) :\n",
    "    print(noms)"
   ]
  },
  {
   "cell_type": "code",
   "execution_count": 6,
   "metadata": {},
   "outputs": [
    {
     "name": "stdout",
     "output_type": "stream",
     "text": [
      "Entrer votre nom : KAM TSEMO\n",
      "KAM TSEMO\n",
      "KAM TSEMO\n",
      "KAM TSEMO\n"
     ]
    }
   ],
   "source": [
    "# En utilisant la boucle WHILE\n",
    "noms = str(input(\"Entrer votre nom : \"))\n",
    "i=0\n",
    "while i<3 :\n",
    "    print(noms)\n",
    "    i=i+1"
   ]
  },
  {
   "cell_type": "markdown",
   "metadata": {},
   "source": [
    "5. Given two numbers $a_0$ and $a_1$, the Fibonacci sequence they generate is constructed from\n",
    "the recursion formula $a_{n+1} = a_{n} + a_{n−1}$. Calculate the first 15 terms of a Fibonacci\n",
    "sequence, asking the user the initial values.\n"
   ]
  },
  {
   "cell_type": "code",
   "execution_count": 7,
   "metadata": {},
   "outputs": [
    {
     "name": "stdout",
     "output_type": "stream",
     "text": [
      "Entrer le premier terme de la suite :0\n",
      "Entrer le deuxieme terme de la suite :1\n",
      "\n",
      " la suite des 15 premiers termes de fibonacci est :\n",
      "0 , 1, 1, 2, 3, 5, 8, 13, 21, 34, 55, 89, 144, 233, 377, "
     ]
    }
   ],
   "source": [
    "a0 = int(input(\"Entrer le premier terme de la suite :\"))\n",
    "a1 = int(input(\"Entrer le deuxieme terme de la suite :\"))\n",
    " \n",
    "print(\"\\n la suite des 15 premiers termes de fibonacci est :\")\n",
    "print(a0, \",\", a1, end=\", \")\n",
    " \n",
    "for i in range(2, 15):\n",
    "    suivant = a0 + a1\n",
    "    print(suivant, end=\", \")\n",
    " \n",
    "    a0 = a1\n",
    "    a1 = suivant\n",
    "        "
   ]
  },
  {
   "cell_type": "markdown",
   "metadata": {},
   "source": [
    "6. Compute the first 30 terms of the sequence defined by $2x_{n+2} − x_{n+1} − 6x_{n} = 0$ sequence,\n",
    "given any two initial values $x_0$ and $x_1$"
   ]
  },
  {
   "cell_type": "code",
   "execution_count": 8,
   "metadata": {},
   "outputs": [
    {
     "name": "stdout",
     "output_type": "stream",
     "text": [
      "Entrer le premier terme de la suite :0\n",
      "Entrer le deuxieme terme de la suite :1\n",
      "\n",
      " la sequence des 30 premiers termes est :\n",
      "0 , 1, 0.5, 3.25, 3.125, 11.3125, 15.03125, 41.453125, 65.8203125, 157.26953125, 276.095703125, 609.8564453125, 1133.21533203125, 2396.177001953125, 4597.7344970703125, 9487.398254394531, 18536.902618408203, 37730.646072387695, 74476.03089141846, 150429.9536628723, 298643.0695056915, 600611.3957414627, 1196234.906387806, 2399951.640418291, 4788680.539372563, 9594195.190941155, 19163139.213588268, 38364155.1796176, 76671495.2305736, 153428213.15413958, "
     ]
    }
   ],
   "source": [
    "x0 = int(input(\"Entrer le premier terme de la suite :\"))\n",
    "x1 = int(input(\"Entrer le deuxieme terme de la suite :\"))\n",
    " \n",
    "print(\"\\n la sequence des 30 premiers termes est :\")\n",
    "print(x0, \",\", x1, end=\", \")\n",
    " \n",
    "for i in range(2, 30):\n",
    "    suivant = 0.5*(x1 + 6 * x0)\n",
    "    print(suivant, end=\", \")\n",
    " \n",
    "    x0 = x1\n",
    "    x1 = suivant\n",
    "        "
   ]
  },
  {
   "cell_type": "markdown",
   "metadata": {},
   "source": [
    "7.a Write python code to determine whether or not a year is a leap year. Be sure you\n",
    "know what a leap year is."
   ]
  },
  {
   "cell_type": "code",
   "execution_count": 9,
   "metadata": {},
   "outputs": [
    {
     "name": "stdout",
     "output_type": "stream",
     "text": [
      "Entrez l'année à verifier : 2015\n",
      "--- 2015 --- n'est pas une année bissextile !\n"
     ]
    }
   ],
   "source": [
    "annee = int(input(\"Entrez l'année à verifier : \"))\n",
    "if(annee%4==0 and annee%100!=0 or annee%400==0):\n",
    "    print(annee, \"  est une année bissextile !\")\n",
    "else:\n",
    "    print(\"---\",annee,\"---\" \" n'est pas une année bissextile !\")"
   ]
  },
  {
   "cell_type": "markdown",
   "metadata": {},
   "source": [
    "7.b Write the code using only logical operators, i.e. no conditional branching."
   ]
  },
  {
   "cell_type": "code",
   "execution_count": 25,
   "metadata": {},
   "outputs": [],
   "source": [
    "# En cours de reflexion..."
   ]
  },
  {
   "cell_type": "markdown",
   "metadata": {},
   "source": [
    "8.a Write python code that computes the sum of the square of the first n natural numbers.\n",
    "One version with a \"for loop\" and another version with a \"while loop\"."
   ]
  },
  {
   "cell_type": "code",
   "execution_count": 11,
   "metadata": {},
   "outputs": [
    {
     "name": "stdout",
     "output_type": "stream",
     "text": [
      "Entrer un nombre entier naturel : 8\n",
      "La somme des carrées de  8  est : 204\n"
     ]
    }
   ],
   "source": [
    "# En utilisant la boucle FOR\n",
    "\n",
    "val=int(input(\"Entrer un nombre entier naturel : \"))\n",
    "s=0\n",
    "for n in range(0,val+1):\n",
    "    s=s+n*n\n",
    "    n=n+1\n",
    "print(\"La somme des carrées de \",val, \" est :\", s)\n",
    "    "
   ]
  },
  {
   "cell_type": "code",
   "execution_count": 12,
   "metadata": {},
   "outputs": [
    {
     "name": "stdout",
     "output_type": "stream",
     "text": [
      "Entrer un nombre entier naturel : 8\n",
      "La somme des carrées de  8  est : 204\n"
     ]
    }
   ],
   "source": [
    "# En utilisant la boucle WHILE\n",
    "\n",
    "val=int(input(\"Entrer un nombre entier naturel : \"))\n",
    "n=0\n",
    "s=0\n",
    "while n<val :\n",
    "    n=n+1\n",
    "    s=s+n*n\n",
    "print(\"La somme des carrées de \",val, \" est :\", s)\n",
    "    \n"
   ]
  },
  {
   "cell_type": "markdown",
   "metadata": {},
   "source": [
    "8.b Write python code that prints, for a natural number $M$, the smallest natural number\n",
    "n such that $1^2+2^2+3^2+...+n^2 ≥ M$. One version with a \"for loop\" and another version\n",
    "with a \"while loop"
   ]
  },
  {
   "cell_type": "code",
   "execution_count": 13,
   "metadata": {},
   "outputs": [
    {
     "name": "stdout",
     "output_type": "stream",
     "text": [
      "Entrer un nombre entier naturel : 184\n",
      "le plus petit entier naturel tel que  2093460  est supérieure ou égale à  184  est : 184\n"
     ]
    }
   ],
   "source": [
    "# En utilisant la boucle FOR\n",
    "\n",
    "M=int(input(\"Entrer un nombre entier naturel : \"))\n",
    "s=0\n",
    "mini=1\n",
    "for n in range(0,M+1):\n",
    "    s=s+n*n\n",
    "    if s>=M :\n",
    "        mini=n\n",
    "print(\"le plus petit entier naturel tel que \",s, \" est supérieure ou égale à \", M, \" est :\", mini)"
   ]
  },
  {
   "cell_type": "markdown",
   "metadata": {},
   "source": [
    "9.a Write python code that prints all the divisors of a given natural number"
   ]
  },
  {
   "cell_type": "code",
   "execution_count": 14,
   "metadata": {},
   "outputs": [
    {
     "name": "stdout",
     "output_type": "stream",
     "text": [
      "Entrer un nombre entier naturel : 12\n",
      "1\n",
      "2\n",
      "3\n",
      "4\n",
      "6\n",
      "12\n"
     ]
    }
   ],
   "source": [
    "nombre = int(input(\"Entrer un nombre entier naturel : \"))\n",
    "for k in range(1,nombre+1):\n",
    "    if nombre%k==0 :\n",
    "        print(k)"
   ]
  },
  {
   "cell_type": "markdown",
   "metadata": {},
   "source": [
    "9.b Read an integer number input by the user and calculate its prime factors. This will\n",
    "just be some of its divisors."
   ]
  },
  {
   "cell_type": "code",
   "execution_count": 15,
   "metadata": {},
   "outputs": [
    {
     "name": "stdout",
     "output_type": "stream",
     "text": [
      "Entrer un nombre entier naturel : 12\n",
      "x 2 x 2 x 3 "
     ]
    }
   ],
   "source": [
    "n = int(input(\"Entrer un nombre entier naturel : \"))\n",
    "i = 2 \n",
    "while n>1: \n",
    "    while n%i==0: \n",
    "        print(\"x\",i, end=' ') \n",
    "        n=n/i \n",
    "    i=i+1 "
   ]
  },
  {
   "cell_type": "markdown",
   "metadata": {},
   "source": [
    "10. Read an integer number between n 0 and 9 and print its multiplication table up to N\n",
    "where N is another another natural number read by the program.\n"
   ]
  },
  {
   "cell_type": "code",
   "execution_count": 16,
   "metadata": {},
   "outputs": [
    {
     "name": "stdout",
     "output_type": "stream",
     "text": [
      "Entrez un premier nombre entier naturel : 9\n",
      "Saisir un second nombre entier naturel : 10\n",
      "0 x 9 = 0\n",
      "1 x 9 = 9\n",
      "2 x 9 = 18\n",
      "3 x 9 = 27\n",
      "4 x 9 = 36\n",
      "5 x 9 = 45\n",
      "6 x 9 = 54\n",
      "7 x 9 = 63\n",
      "8 x 9 = 72\n",
      "9 x 9 = 81\n",
      "10 x 9 = 90\n"
     ]
    }
   ],
   "source": [
    "n=int(input('Entrez un premier nombre entier naturel : '))   # ce nombre represente le nombre que l'on veut afficger sa table de multiplication\n",
    "N=int(input('Saisir un second nombre entier naturel : '))  # Ce nombre represente l'iteration maximale que nous voudrions pour affiher notre table\n",
    "if -1<n<10 :\n",
    "    for i in range (0,N+1) :\n",
    "        v = i*n\n",
    "        print(i, 'x', n, '=', v, sep =' ')\n",
    "        i = i+1\n",
    "else :\n",
    "    print(\"Votre premier nombre entier naturel doit être compris entre 0 et 9\")"
   ]
  },
  {
   "cell_type": "markdown",
   "metadata": {},
   "source": [
    "11. Write a program that prints all the numbers between 0 and 40 that are multiples of 3, 7\n",
    "or 11."
   ]
  },
  {
   "cell_type": "code",
   "execution_count": 17,
   "metadata": {},
   "outputs": [
    {
     "name": "stdout",
     "output_type": "stream",
     "text": [
      "11, 11, 11, 22, 22, 22, 33, 44, 44, 55, 55, 66, 77, 77, 88, 99, 99, 99, 110, 110, 110, 121, 132, 132, 143, 143, 143, 154, 165, 165, 176, 176, 176, 187, 187, 198, 209, 209, 209, 220, 220, "
     ]
    }
   ],
   "source": [
    "mult = 0\n",
    "for j in range(0, 41):\n",
    "    if (j%3 == 0 or j%7 == 0 or j%11 == 0):\n",
    "        mult=mult+i\n",
    "    print(mult, end=\", \")\n",
    "    "
   ]
  },
  {
   "cell_type": "markdown",
   "metadata": {},
   "source": [
    "12. Write python code that prints the floor of a float x. Recall that the floor of a float x is the\n",
    "largest integer value less than or equal to x, i.e. if E[x] is the floor of x, then it satisfies, E[x] = 1 + E[x − 1]"
   ]
  },
  {
   "cell_type": "code",
   "execution_count": null,
   "metadata": {},
   "outputs": [],
   "source": [
    "# En cours de reflexion..."
   ]
  },
  {
   "cell_type": "markdown",
   "metadata": {},
   "source": [
    "13. Given a point in the plane by its Cartesian coordinates, determine in which quadrant it is\n",
    "(1st, 2nd, 3rd, 4th), if it lies on an axis, or if it is the origin. Do this for several points in\n",
    "the same execution of the program until the user quits.\n"
   ]
  },
  {
   "cell_type": "code",
   "execution_count": 18,
   "metadata": {},
   "outputs": [
    {
     "name": "stdout",
     "output_type": "stream",
     "text": [
      "Entrer l'abscisse du point 4\n",
      "Entrer l'ordonnée du point -9\n",
      "4th\n",
      "Voulez vous quitter ? oui ou non oui\n"
     ]
    }
   ],
   "source": [
    "decision = 'non'\n",
    "while decision == 'non':\n",
    "    a_x=int(input(\"Entrer l'abscisse du point \"))\n",
    "    a_y=int(input(\"Entrer l'ordonnée du point \"))\n",
    "    if a_x <= 0 and a_y >= 0: \n",
    "        print('1st')\n",
    "    if a_x >= 0 and a_y >= 0: \n",
    "        print('2nd')\n",
    "    if a_x <= 0 and a_y <= 0: \n",
    "        print('3rd')\n",
    "    if a_x >= 0 and a_y <= 0: \n",
    "        print('4th')\n",
    "    decision =input(\"Voulez vous quitter ? oui ou non \")"
   ]
  },
  {
   "cell_type": "markdown",
   "metadata": {},
   "source": [
    "14. Ask for an integer number between 0 and 9, denoted x. Once the user has entered a correct\n",
    "number (that is one in the range [0..10)) the program asks for a second integer number\n",
    "between 0 and 255, denoted max. The program continues asking for the number until it\n",
    "is correct (that it is in the range [0..256)). When this is done, show all multiples of x that\n",
    "are between 0 and max. Then, ask the user whether he/she wants to continue; if in the\n",
    "affirmative, ask for another couple of numbers, otherwise finish."
   ]
  },
  {
   "cell_type": "code",
   "execution_count": null,
   "metadata": {},
   "outputs": [],
   "source": [
    "n=int(input(\"Entrer un nombre entier naturel entre 0 et 9 : \"))\n",
    "maximum=0\n",
    "while decision=='non':\n",
    "    if n<=0 and n>=10:\n",
    "        while maximum<0 and maximum > 256:\n",
    "            maximum=int(input(\"Entrer un nombre entier naturel entre 0 et 255 : \"))\n",
    "    for i in range(maximum):\n",
    "            if i%x==0:\n",
    "                print(i)\n",
    "    decision = input(\"Voulez vous quitter ? oui ou non \")"
   ]
  }
 ],
 "metadata": {
  "kernelspec": {
   "display_name": "Python 3",
   "language": "python",
   "name": "python3"
  },
  "language_info": {
   "codemirror_mode": {
    "name": "ipython",
    "version": 3
   },
   "file_extension": ".py",
   "mimetype": "text/x-python",
   "name": "python",
   "nbconvert_exporter": "python",
   "pygments_lexer": "ipython3",
   "version": "3.7.6"
  }
 },
 "nbformat": 4,
 "nbformat_minor": 4
}
